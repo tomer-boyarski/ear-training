{
 "cells": [
  {
   "cell_type": "code",
   "execution_count": 76,
   "id": "16b035f8",
   "metadata": {},
   "outputs": [],
   "source": [
    "import pandas as pd \n",
    "from IPython.core.interactiveshell import InteractiveShell\n",
    "InteractiveShell.ast_node_interactivity = \"all\""
   ]
  },
  {
   "cell_type": "code",
   "execution_count": 78,
   "id": "3fc9fe0a",
   "metadata": {},
   "outputs": [
    {
     "data": {
      "text/plain": [
       "0.9996661692890971"
      ]
     },
     "execution_count": 78,
     "metadata": {},
     "output_type": "execute_result"
    }
   ],
   "source": [
    "pd.Series(sample_std).std()"
   ]
  },
  {
   "cell_type": "code",
   "execution_count": 79,
   "id": "fbd73175",
   "metadata": {},
   "outputs": [
    {
     "data": {
      "text/plain": [
       "0.9996161847309875"
      ]
     },
     "execution_count": 79,
     "metadata": {},
     "output_type": "execute_result"
    },
    {
     "data": {
      "text/plain": [
       "0.9996161847309875"
      ]
     },
     "execution_count": 79,
     "metadata": {},
     "output_type": "execute_result"
    }
   ],
   "source": [
    "np.std(sample_std)\n",
    "sample_std.std()"
   ]
  },
  {
   "cell_type": "code",
   "execution_count": 84,
   "id": "d10ac926",
   "metadata": {},
   "outputs": [
    {
     "name": "stdout",
     "output_type": "stream",
     "text": [
      "sample size = 10\n",
      "0.42641\n",
      "0.503568\n",
      "sample size = 100\n",
      "0.037684\n",
      "0.032836\n",
      "sample size = 1000\n",
      "0.018991\n",
      "0.0185\n",
      "sample size = 10000\n",
      "0.015377\n",
      "0.015428\n",
      "sample size = 100000\n",
      "0.00236\n",
      "0.002365\n",
      "sample size = 1000000\n",
      "8.7e-05\n",
      "8.8e-05\n"
     ]
    }
   ],
   "source": [
    "my_precision = 6\n",
    "for sample_size in 10**np.arange(1,7):\n",
    "    sample_std = np.random.normal(0, 1, sample_size)\n",
    "#     coin\n",
    "    print('sample size = ' + str(sample_size))\n",
    "    print(round(abs(np.std(sample_std, ddof=0) - 1), my_precision))\n",
    "    print(round(abs(np.std(sample_std, ddof=1) - 1), my_precision))"
   ]
  },
  {
   "cell_type": "code",
   "execution_count": 72,
   "id": "1c2f8484",
   "metadata": {},
   "outputs": [
    {
     "name": "stdout",
     "output_type": "stream",
     "text": [
      "0.1\n",
      "0.04\n",
      "0.014\n",
      "0.0052\n"
     ]
    }
   ],
   "source": [
    "for sample_size in [10,100,1000,10000]:\n",
    "    coin = np.random.binomial(1, 0.5, sample_size)\n",
    "#     coin\n",
    "    print(round(abs(np.mean(coin) - 0.5),4))"
   ]
  },
  {
   "cell_type": "code",
   "execution_count": 60,
   "id": "650ea235",
   "metadata": {},
   "outputs": [
    {
     "data": {
      "text/plain": [
       "2.9708551840995066"
      ]
     },
     "execution_count": 60,
     "metadata": {},
     "output_type": "execute_result"
    }
   ],
   "source": [
    "np.mean(x)"
   ]
  },
  {
   "cell_type": "code",
   "execution_count": 58,
   "id": "9ec7c885",
   "metadata": {},
   "outputs": [
    {
     "data": {
      "text/plain": [
       "array([2.89670382, 2.83571574, 2.88594505, 2.95307666, 3.0471115 ,\n",
       "       3.06699982, 2.95123798, 2.98909059, 3.05033719, 3.0323335 ])"
      ]
     },
     "execution_count": 58,
     "metadata": {},
     "output_type": "execute_result"
    }
   ],
   "source": [
    "x"
   ]
  },
  {
   "cell_type": "code",
   "execution_count": 59,
   "id": "5671dfbe",
   "metadata": {},
   "outputs": [
    {
     "data": {
      "text/plain": [
       "101"
      ]
     },
     "execution_count": 59,
     "metadata": {},
     "output_type": "execute_result"
    }
   ],
   "source": [
    "len(q)"
   ]
  },
  {
   "cell_type": "code",
   "execution_count": 93,
   "id": "26d04b3b",
   "metadata": {},
   "outputs": [
    {
     "data": {
      "image/png": "[encoded data removed]",
      "text/plain": [
       "<Figure size 432x288 with 1 Axes>"
      ]
     },
     "metadata": {
      "needs_background": "light"
     },
     "output_type": "display_data"
    }
   ],
   "source": [
    "random_walk = np.random.normal(0, 1, 100)\n",
    "random_walk = random_walk.cumsum()\n",
    "plt.subplot()\n",
    "plt.plot(range(0,100),random_walk);\n",
    "plt.plot(range(1,101),random_walk);\n"
   ]
  },
  {
   "cell_type": "code",
   "execution_count": 167,
   "id": "9fdc3d30",
   "metadata": {},
   "outputs": [
    {
     "data": {
      "text/plain": [
       "1.9867425931145402"
      ]
     },
     "execution_count": 167,
     "metadata": {},
     "output_type": "execute_result"
    }
   ],
   "source": [
    "w_hat = np.sum(df.x*df.y) / np.sum(df.x*df.x)\n",
    "w_hat"
   ]
  },
  {
   "cell_type": "code",
   "execution_count": 172,
   "id": "6cb4ef78",
   "metadata": {},
   "outputs": [
    {
     "data": {
      "text/plain": [
       "2.9855165726077164"
      ]
     },
     "execution_count": 172,
     "metadata": {},
     "output_type": "execute_result"
    },
    {
     "data": {
      "text/plain": [
       "2.9855165726077173"
      ]
     },
     "execution_count": 172,
     "metadata": {},
     "output_type": "execute_result"
    }
   ],
   "source": [
    "w_hat = np.dot(x,y) / np.dot(x,x)\n",
    "w_hat\n",
    "w_hat = np.sum(x*y) / np.sum(x*x)\n",
    "w_hat"
   ]
  },
  {
   "cell_type": "code",
   "execution_count": 191,
   "id": "7e77f133",
   "metadata": {},
   "outputs": [
    {
     "data": {
      "text/plain": [
       "array([0. , 0.1, 0.2, 0.3, 0.4, 0.5, 0.6, 0.7, 0.8, 0.9, 1. , 1.1, 1.2,\n",
       "       1.3, 1.4, 1.5, 1.6, 1.7, 1.8, 1.9, 2. , 2.1, 2.2, 2.3, 2.4, 2.5,\n",
       "       2.6, 2.7, 2.8, 2.9, 3. , 3.1, 3.2, 3.3, 3.4, 3.5, 3.6, 3.7, 3.8,\n",
       "       3.9, 4. , 4.1, 4.2, 4.3, 4.4, 4.5, 4.6, 4.7, 4.8, 4.9, 5. , 5.1,\n",
       "       5.2, 5.3, 5.4, 5.5, 5.6, 5.7, 5.8, 5.9])"
      ]
     },
     "execution_count": 191,
     "metadata": {},
     "output_type": "execute_result"
    }
   ],
   "source": [
    "w_hat_array"
   ]
  },
  {
   "cell_type": "code",
   "execution_count": 202,
   "id": "3ed2db29",
   "metadata": {},
   "outputs": [],
   "source": [
    "df;"
   ]
  },
  {
   "cell_type": "code",
   "execution_count": 200,
   "id": "a341710a",
   "metadata": {},
   "outputs": [
    {
     "data": {
      "text/plain": [
       "<Figure size 360x360 with 0 Axes>"
      ]
     },
     "metadata": {},
     "output_type": "display_data"
    },
    {
     "data": {
      "text/plain": [
       "<Figure size 360x360 with 0 Axes>"
      ]
     },
     "metadata": {},
     "output_type": "display_data"
    },
    {
     "data": {
      "image/png": "[encoded data removed]",
      "text/plain": [
       "<Figure size 360x360 with 1 Axes>"
      ]
     },
     "metadata": {
      "needs_background": "light"
     },
     "output_type": "display_data"
    }
   ],
   "source": [
    "samp_size = 30\n",
    "x = np.linspace(-10,10,samp_size)\n",
    "w = 4\n",
    "y = w*x + np.random.normal(0, 10, samp_size)\n",
    "fig = plt.figure(figsize = (5,5))\n",
    "# plt.plot(x,y,'d');\n",
    "\n",
    "w_hat_array = np.arange(0,6,0.1)\n",
    "SSE = []\n",
    "for w_hat_temp in w_hat_array:\n",
    "    SSE.append(np.sum((w_hat_temp*x-y)**2))\n",
    "fig = plt.figure(figsize = (5,5))\n",
    "\n",
    "# plt.plot(w_hat_array, SSE)\n",
    "\n",
    "w_hat = [10]\n",
    "a = 0.0001\n",
    "for i in range(100):\n",
    "    w_hat.append(w_hat[i] - a*sum((w_hat[i]*x-y)*x))\n",
    "fig = plt.figure(figsize = (5,5))\n",
    "plt.plot(w_hat);\n",
    "# w_hat"
   ]
  },
  {
   "cell_type": "code",
   "execution_count": 173,
   "id": "54c355f9",
   "metadata": {},
   "outputs": [
    {
     "data": {
      "text/plain": [
       "[<matplotlib.lines.Line2D at 0x1eeb27715c8>]"
      ]
     },
     "execution_count": 173,
     "metadata": {},
     "output_type": "execute_result"
    },
    {
     "data": {
      "text/plain": [
       "[<matplotlib.lines.Line2D at 0x1eeb2784e88>]"
      ]
     },
     "execution_count": 173,
     "metadata": {},
     "output_type": "execute_result"
    },
    {
     "data": {
      "text/plain": [
       "[<matplotlib.lines.Line2D at 0x1eeb27cf088>]"
      ]
     },
     "execution_count": 173,
     "metadata": {},
     "output_type": "execute_result"
    },
    {
     "data": {
      "image/png": "[encoded data removed]",
      "text/plain": [
       "<Figure size 360x360 with 1 Axes>"
      ]
     },
     "metadata": {
      "needs_background": "light"
     },
     "output_type": "display_data"
    },
    {
     "data": {
      "image/png": "[encoded data removed]",
      "text/plain": [
       "<Figure size 360x360 with 1 Axes>"
      ]
     },
     "metadata": {
      "needs_background": "light"
     },
     "output_type": "display_data"
    }
   ],
   "source": [
    "samp_size = 30\n",
    "x = np.linspace(-10,10,samp_size)\n",
    "# y = np.sin(x) + 0.5*np.random.rand(samp_size)\n",
    "w = 3\n",
    "y = w*x + np.random.normal(0, 10, samp_size)\n",
    "# y = np.sin(x) + np.random.normal(0, 0.1, samp_size)\n",
    "w_hat = 2 # ? w_hat(x,y)\n",
    "y_hat = w_hat*x\n",
    "# y = np.sin(x) + 0.5*np.random.randn(samp_size)\n",
    "fig = plt.figure(figsize = (5,5))\n",
    "plt.plot(x,y,'d')\n",
    "plt.plot(x, y_hat)\n",
    "# plt.plot(0,0,'c')\n",
    "# np.corrcoef(x,y)\n",
    "# x\n",
    "# y\n",
    "df = pd.DataFrame({'x':x, 'y':y})\n",
    "SSE = []\n",
    "incline_range = x\n",
    "for incline in incline_range:\n",
    "    y_hat = incline * x\n",
    "    SSE.append(np.sum((y_hat - y)**2))\n",
    "fig = plt.figure(figsize = (5,5))\n",
    "plt.plot(incline_range, SSE)\n",
    "# df"
   ]
  },
  {
   "cell_type": "code",
   "execution_count": null,
   "id": "46ec6a62",
   "metadata": {},
   "outputs": [],
   "source": [
    "samp_size = 300\n",
    "x = np.linspace(-10,10,samp_size)\n",
    "w = 2\n",
    "y = w0 + w1*x + np.random.normal(0, 10, samp_size)\n",
    "# y = np.sin(x) + 0.5*np.random.randn(samp_size)\n",
    "fig = plt.figure(figsize = (5,5))\n",
    "plt.plot(x,y,'d')\n",
    "plt.plot(x, y_hat)\n",
    "# plt.plot(0,0,'c')\n",
    "# np.corrcoef(x,y)\n",
    "# x\n",
    "# y\n",
    "df = pd.DataFrame({'x':x, 'y':y})\n",
    "SSE = []\n",
    "incline_range = x\n",
    "for incline in incline_range:\n",
    "    y_hat = incline * x\n",
    "    SSE.append(np.sum((y_hat - y)**2))\n",
    "fig = plt.figure(figsize = (5,5))\n",
    "plt.plot(incline_range, SSE)\n",
    "# df"
   ]
  },
  {
   "cell_type": "code",
   "execution_count": 57,
   "id": "c5b980c1",
   "metadata": {},
   "outputs": [
    {
     "data": {
      "image/png": "[encoded data removed]",
      "text/plain": [
       "<Figure size 432x288 with 1 Axes>"
      ]
     },
     "metadata": {
      "needs_background": "light"
     },
     "output_type": "display_data"
    }
   ],
   "source": [
    "import numpy as np\n",
    "import matplotlib.pyplot as plt\n",
    "x = np.random.normal(3, 0.1, 10)\n",
    "a = 0.01\n",
    "q = [5]\n",
    "for i in range(100):\n",
    "    q.append(q[i] + a*sum(x - q[i]))\n",
    "plt.plot(q);"
   ]
  }
 ],
 "metadata": {
  "kernelspec": {
   "display_name": "Python 3",
   "language": "python",
   "name": "python3"
  },
  "language_info": {
   "codemirror_mode": {
    "name": "ipython",
    "version": 3
   },
   "file_extension": ".py",
   "mimetype": "text/x-python",
   "name": "python",
   "nbconvert_exporter": "python",
   "pygments_lexer": "ipython3",
   "version": "3.7.11"
  }
 },
 "nbformat": 4,
 "nbformat_minor": 5
}
