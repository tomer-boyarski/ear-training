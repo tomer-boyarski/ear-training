{
 "cells": [
  {
   "cell_type": "code",
   "execution_count": 10,
   "id": "baeaf3ab",
   "metadata": {},
   "outputs": [
    {
     "name": "stdout",
     "output_type": "stream",
     "text": [
      "<class 'datetime.datetime'>\n",
      "now = 2022-07-29 14:50:24.595984\n",
      "date and time = 29/07/2022 14:50:24\n"
     ]
    }
   ],
   "source": [
    "from datetime import datetime\n",
    "\n",
    "# datetime object containing current date and time\n",
    "now = datetime.now()\n",
    "\n",
    "print(type(now))\n",
    "print(\"now =\", now)\n",
    "\n",
    "# dd/mm/YY H:M:S\n",
    "dt_string = now.strftime(\"%d/%m/%Y %H:%M:%S\")\n",
    "print(\"date and time =\", dt_string)\t\n"
   ]
  },
  {
   "cell_type": "code",
   "execution_count": 13,
   "id": "4ab174a8",
   "metadata": {},
   "outputs": [
    {
     "data": {
      "image/png": "[encoded data removed]",
      "text/plain": [
       "<Figure size 432x288 with 1 Axes>"
      ]
     },
     "metadata": {
      "needs_background": "light"
     },
     "output_type": "display_data"
    },
    {
     "name": "stdout",
     "output_type": "stream",
     "text": [
      "[datetime.datetime(2022, 7, 29, 14, 51, 38, 446813), datetime.datetime(2022, 7, 29, 14, 51, 39, 129702), datetime.datetime(2022, 7, 29, 14, 51, 39, 853273), datetime.datetime(2022, 7, 29, 14, 51, 40, 513473), datetime.datetime(2022, 7, 29, 14, 51, 41, 476896)]\n"
     ]
    }
   ],
   "source": [
    "import time\n",
    "import numpy as np\n",
    "import matplotlib.pyplot as plt\n",
    "from datetime import datetime\n",
    "\n",
    "x = []\n",
    "y = []\n",
    "start = datetime.now()\n",
    "for i in range(5):\n",
    "    y.append(i)\n",
    "    x.append(datetime.now())\n",
    "    time.sleep(np.random.rand())\n",
    "plt.plot(x,y)\n",
    "plt.show()\n",
    "print(x)"
   ]
  },
  {
   "cell_type": "code",
   "execution_count": 4,
   "id": "617b0d97",
   "metadata": {},
   "outputs": [
    {
     "name": "stdout",
     "output_type": "stream",
     "text": [
      "2\n"
     ]
    }
   ],
   "source": [
    "def myfunc():\n",
    "    print(x)\n",
    "def main():\n",
    "    x = 2\n",
    "    myfunc()\n",
    "main()"
   ]
  },
  {
   "cell_type": "code",
   "execution_count": 86,
   "id": "8c721b93",
   "metadata": {},
   "outputs": [
    {
     "name": "stdout",
     "output_type": "stream",
     "text": [
      "asdf ;lkj\n"
     ]
    }
   ],
   "source": [
    "s = 'asdf'\n",
    "print(f'{s} ;lkj')"
   ]
  },
  {
   "cell_type": "code",
   "execution_count": 85,
   "id": "14d3fb76",
   "metadata": {},
   "outputs": [],
   "source": [
    "def func_kwargs(**kwargs):\n",
    "    ke\n",
    "    print('kwargs: ', kwargs)\n",
    "    print('type: ', type(kwargs))\n",
    "\n",
    "# func_kwargs(key1=1, key2=2, key3=3)"
   ]
  },
  {
   "cell_type": "code",
   "execution_count": 83,
   "id": "18482683",
   "metadata": {},
   "outputs": [
    {
     "ename": "EOFError",
     "evalue": "Ran out of input",
     "output_type": "error",
     "traceback": [
      "\u001b[1;31m---------------------------------------------------------------------------\u001b[0m",
      "\u001b[1;31mEOFError\u001b[0m                                  Traceback (most recent call last)",
      "\u001b[1;32m~\\AppData\\Local\\Temp\\ipykernel_18308\\937535417.py\u001b[0m in \u001b[0;36m<module>\u001b[1;34m\u001b[0m\n\u001b[0;32m      1\u001b[0m \u001b[0muser\u001b[0m \u001b[1;33m=\u001b[0m \u001b[1;34m'tomer'\u001b[0m\u001b[1;33m\u001b[0m\u001b[1;33m\u001b[0m\u001b[0m\n\u001b[0;32m      2\u001b[0m \u001b[1;32mwith\u001b[0m \u001b[0mopen\u001b[0m\u001b[1;33m(\u001b[0m\u001b[1;34m'users levels\\\\'\u001b[0m \u001b[1;33m+\u001b[0m \u001b[0muser\u001b[0m \u001b[1;33m+\u001b[0m \u001b[1;34m'.pkl'\u001b[0m\u001b[1;33m,\u001b[0m \u001b[1;34m'rb'\u001b[0m\u001b[1;33m)\u001b[0m \u001b[1;32mas\u001b[0m \u001b[0minp\u001b[0m\u001b[1;33m:\u001b[0m\u001b[1;33m\u001b[0m\u001b[1;33m\u001b[0m\u001b[0m\n\u001b[1;32m----> 3\u001b[1;33m     \u001b[0mtotal\u001b[0m \u001b[1;33m=\u001b[0m \u001b[0mpickle\u001b[0m\u001b[1;33m.\u001b[0m\u001b[0mload\u001b[0m\u001b[1;33m(\u001b[0m\u001b[0minp\u001b[0m\u001b[1;33m)\u001b[0m\u001b[1;33m\u001b[0m\u001b[1;33m\u001b[0m\u001b[0m\n\u001b[0m",
      "\u001b[1;31mEOFError\u001b[0m: Ran out of input"
     ]
    }
   ],
   "source": [
    "user = 'tomer'\n",
    "with open('users levels\\\\' + user + '.pkl', 'rb') as inp:\n",
    "    total = pickle.load(inp)"
   ]
  },
  {
   "cell_type": "code",
   "execution_count": 80,
   "id": "940baca3",
   "metadata": {},
   "outputs": [
    {
     "data": {
      "text/plain": [
       "array([2, 8], dtype=int64)"
      ]
     },
     "execution_count": 80,
     "metadata": {},
     "output_type": "execute_result"
    }
   ],
   "source": [
    "import numpy as np\n",
    "values = np.array([1,2,3,1,2,4,5,6,3,2,1])\n",
    "searchval = 3\n",
    "ii = np.where(values == searchval)[0]\n",
    "ii"
   ]
  },
  {
   "cell_type": "code",
   "execution_count": 75,
   "id": "cef7f2ab",
   "metadata": {},
   "outputs": [
    {
     "name": "stdout",
     "output_type": "stream",
     "text": [
      "step_size 1 intervals 1 number_of_notes 1\n",
      "max_level 0\n",
      "step_size 1 intervals 1 number_of_notes 2\n",
      "max_level 0\n",
      "step_size 1 intervals 1 number_of_notes None\n",
      "max_level 4\n",
      "step_size 1 intervals None number_of_notes 1\n",
      "max_level 0\n",
      "step_size 1 intervals None number_of_notes 2\n",
      "max_level 60\n",
      "step_size 1 intervals None number_of_notes None\n",
      "max_level 241\n",
      "step_size None intervals 1 number_of_notes 1\n",
      "max_level 60\n",
      "step_size None intervals 1 number_of_notes 2\n",
      "max_level 60\n",
      "step_size None intervals 1 number_of_notes None\n",
      "max_level 300\n",
      "step_size None intervals None number_of_notes 1\n",
      "max_level 60\n",
      "step_size None intervals None number_of_notes 2\n",
      "max_level 3660\n",
      "step_size None intervals None number_of_notes None\n",
      "max_level 14460\n"
     ]
    }
   ],
   "source": [
    "for step_size in [1, None]:\n",
    "    for intervals in [1, None]:\n",
    "        for number_of_notes in [1, 2, None]:\n",
    "            max_level = 0\n",
    "            if step_size is None:\n",
    "                max_level = max_level + 60\n",
    "            if intervals is None:\n",
    "                if number_of_notes is None:\n",
    "                    max_level = max(1, max_level) + 60 * max(1, max_level) * 4 \n",
    "                elif number_of_notes > 1:\n",
    "                    max_level = max_level + 60 * max(1, max_level)\n",
    "                elif number_of_notes == 1:\n",
    "                    pass\n",
    "            if number_of_notes is None:\n",
    "                if intervals is not None:\n",
    "                    max_level = max_level + 4 * max(1, max_level) #+ max(1, max_level)\n",
    "            print('step_size', step_size, \n",
    "                 'intervals', intervals, \n",
    "                 'number_of_notes', number_of_notes)\n",
    "            print('max_level', max_level)"
   ]
  },
  {
   "cell_type": "code",
   "execution_count": 138,
   "id": "83446132",
   "metadata": {},
   "outputs": [
    {
     "data": {
      "image/png": "[encoded data removed]",
      "text/plain": [
       "<Figure size 864x216 with 4 Axes>"
      ]
     },
     "metadata": {
      "needs_background": "light"
     },
     "output_type": "display_data"
    }
   ],
   "source": [
    "import numpy as np\n",
    "import matplotlib.pyplot as plt\n",
    "from itertools import chain, combinations\n",
    "\n",
    "num_att_levels = [5, 61, 61]\n",
    "current_levels = np.arange(5 * 61 * 61)\n",
    "max_level_to_plot = 5 * 61 * 61\n",
    "current_levels = np.arange(max_level_to_plot)\n",
    "\n",
    "l = [0, 1, 2]  # list_of_indices\n",
    "all_subsets = list(chain.from_iterable(combinations(l, r) for r in range(len(l) + 1)))\n",
    "# print(all_subsets)\n",
    "attribute_names = ['number_of_notes', 'intervals', 'step_size']\n",
    "for subset in all_subsets:\n",
    "    dynamic_attribute_names = np.take(attribute_names, subset).tolist()\n",
    "#     dynamic_attribute_names = dynamic_attribute_names.tolist()\n",
    "\n",
    "    if dynamic_attribute_names == ['number_of_notes', 'intervals', 'step_size']:\n",
    "        # print(dynamic_attribute_names)\n",
    "        levels = [[], [], []]\n",
    "        for current_level in current_levels:\n",
    "            if current_level <= 60:\n",
    "                levels[0].append(0)\n",
    "                levels[1].append(None)\n",
    "                levels[2].append(current_level)\n",
    "            elif current_level > 60:\n",
    "                current_level = current_level - 61\n",
    "                number_of_notes_level, remainder = np.divmod(current_level, 61*61)\n",
    "                levels[0].append(number_of_notes_level+1)\n",
    "                intervals_level, step_size_level = np.divmod(remainder, 61)\n",
    "                levels[1].append(intervals_level)\n",
    "                levels[2].append(step_size_level)\n",
    "        fig, ax = plt.subplots(nrows=1, ncols=4, figsize=(12, 3))\n",
    "        fig.tight_layout(rect=[0, 0, 1, 0.85])\n",
    "        #     fig.tight_layout()\n",
    "        for att_ind, attribute_name in enumerate(dynamic_attribute_names):\n",
    "            ax[attribute_names.index(attribute_name) + 1].plot(levels[attribute_names.index(attribute_name)]);\n",
    "        ax[0].plot(current_levels)\n",
    "        ax[0].set_title('current_levels')\n",
    "        ax[1].set_title('number of notes')\n",
    "        ax[2].set_title('intervals')\n",
    "        ax[3].set_title('step size')\n",
    "        for i in range(4):\n",
    "            ax[i].set_xlim(0, max_level_to_plot)\n",
    "        plt.suptitle(', '.join(dynamic_attribute_names))"
   ]
  },
  {
   "cell_type": "code",
   "execution_count": 156,
   "id": "99f0bfdd",
   "metadata": {},
   "outputs": [
    {
     "data": {
      "text/plain": [
       "True"
      ]
     },
     "execution_count": 156,
     "metadata": {},
     "output_type": "execute_result"
    }
   ],
   "source": [
    "x = np.array([7])\n",
    "type(x) is np.ndarray"
   ]
  },
  {
   "cell_type": "code",
   "execution_count": 149,
   "id": "e9adc24f",
   "metadata": {},
   "outputs": [
    {
     "data": {
      "text/plain": [
       "True"
      ]
     },
     "execution_count": 149,
     "metadata": {},
     "output_type": "execute_result"
    }
   ],
   "source": [
    "x = (3,2)\n",
    "type(x) is tuple"
   ]
  },
  {
   "cell_type": "code",
   "execution_count": 20,
   "id": "8381d267",
   "metadata": {},
   "outputs": [
    {
     "data": {
      "image/png": "[encoded data removed]",
      "text/plain": [
       "<Figure size 432x288 with 1 Axes>"
      ]
     },
     "metadata": {
      "needs_background": "light"
     },
     "output_type": "display_data"
    }
   ],
   "source": [
    "import pickle\n",
    "import matplotlib.pyplot as plt\n",
    "\n",
    "file = open('indices_of_question_answered_correctly.p', 'rb')\n",
    "indices_of_question_answered_correctly = pickle.load(file)\n",
    "file = open('indices_of_question_answered_incorrectly.p', 'rb')\n",
    "indices_of_question_answered_incorrectly = pickle.load(file)\n",
    "file = open('response_times_number_of_notes_3.p', 'rb')\n",
    "response_time = pickle.load(file)\n",
    "\n",
    "# plt.plot(indices_of_question_answered_correctly,\n",
    "#          response_time[indices_of_question_answered_correctly],\n",
    "#          'd', label='True')\n",
    "# plt.plot(indices_of_question_answered_incorrectly,\n",
    "#          response_time[indices_of_question_answered_incorrectly],\n",
    "#          'd', label='False')\n",
    "# plt.legend()\n",
    "# plt.show()\n",
    "\n",
    "np.mean(response_time[indices_of_question_answered_correctly]);\n",
    "plt.hist(response_time[indices_of_question_answered_correctly],density=True);"
   ]
  },
  {
   "cell_type": "code",
   "execution_count": 143,
   "id": "62bff65c",
   "metadata": {},
   "outputs": [
    {
     "name": "stdout",
     "output_type": "stream",
     "text": [
      "number_of_notes=5\n",
      "intervals=1\n",
      "step_size=0\n"
     ]
    }
   ],
   "source": [
    "attribute_names = ['number_of_notes', 'intervals', 'step_size']\n",
    "\n",
    "update_level_according_to_user_response = \\\n",
    "    {'number_of_notes':True, 'intervals':True, 'step_size':True}\n",
    "\n",
    "level_delta = 10\n",
    "previous_level = 12\n",
    "current_level = previous_level + level_delta\n",
    "\n",
    "dynamic_attribute_names = [x for x in attribute_names if\n",
    "                           update_level_according_to_user_response[x]]\n",
    "i = 0\n",
    "for attribute_name in dynamic_attribute_names:\n",
    "    my_prod = 1\n",
    "    for att_name in dynamic_attribute_names[i + 1:]:\n",
    "        my_prod = my_prod * 2\n",
    "    attribute_level, current_level = np.divmod(\n",
    "        current_level, my_prod)\n",
    "    print(attribute_name + '=' + str(attribute_level))\n",
    "    if i == len(dynamic_attribute_names) - 2:\n",
    "        print(attribute_names[i+1] + '=' + str(current_level))\n",
    "        break\n",
    "    i += 1"
   ]
  },
  {
   "cell_type": "code",
   "execution_count": 135,
   "id": "9f1250db",
   "metadata": {},
   "outputs": [
    {
     "name": "stdout",
     "output_type": "stream",
     "text": [
      "0 3 2\n",
      "32\n",
      "0 3 2\n",
      "32\n"
     ]
    }
   ],
   "source": [
    "x_max = 10\n",
    "y_max = 5\n",
    "z_max = 2\n",
    "maxes = [10,5,2]\n",
    "a = 32\n",
    "z, z_remainder = np.divmod(a, x_max*y_max)\n",
    "y, y_remainder = np.divmod(z_remainder, x_max)\n",
    "x = y_remainder\n",
    "print(z, y, x)\n",
    "print(z*x_max*y_max + y*x_max + x)\n",
    "a_new = a - z * y_max * x_max\n",
    "\n",
    "z_new, z_remainder = np.divmod(a_new, x_max*y_max)\n",
    "y_new, y_remainder = np.divmod(z_remainder, x_max)\n",
    "x_new = y_remainder\n",
    "print(z_new, y_new, x_new)\n",
    "print(z*x_max*y_max + y_new*x_max + x_new)"
   ]
  },
  {
   "cell_type": "code",
   "execution_count": 265,
   "id": "180ddc70",
   "metadata": {},
   "outputs": [
    {
     "data": {
      "text/plain": [
       "7"
      ]
     },
     "execution_count": 265,
     "metadata": {},
     "output_type": "execute_result"
    }
   ],
   "source": [
    "xxx = 2\n",
    "class myClass():\n",
    "    xxx = 2\n",
    "    def __init__(self, y):\n",
    "        self.y = y +xxx\n",
    "\n",
    "myObject = myClass(5)\n",
    "\n",
    "myObject.y\n",
    "        "
   ]
  },
  {
   "cell_type": "code",
   "execution_count": 99,
   "id": "5fe8399c",
   "metadata": {},
   "outputs": [
    {
     "ename": "AttributeError",
     "evalue": "'Counter' object has no attribute 'start'",
     "output_type": "error",
     "traceback": [
      "\u001b[1;31m---------------------------------------------------------------------------\u001b[0m",
      "\u001b[1;31mAttributeError\u001b[0m                            Traceback (most recent call last)",
      "\u001b[1;32m~\\AppData\\Local\\Temp\\ipykernel_12304\\1339644552.py\u001b[0m in \u001b[0;36m<module>\u001b[1;34m\u001b[0m\n\u001b[0;32m     10\u001b[0m \u001b[1;33m\u001b[0m\u001b[0m\n\u001b[0;32m     11\u001b[0m \u001b[0mc\u001b[0m \u001b[1;33m=\u001b[0m \u001b[0mCounter\u001b[0m\u001b[1;33m(\u001b[0m\u001b[1;33m)\u001b[0m\u001b[1;33m\u001b[0m\u001b[1;33m\u001b[0m\u001b[0m\n\u001b[1;32m---> 12\u001b[1;33m \u001b[0mc\u001b[0m\u001b[1;33m.\u001b[0m\u001b[0mstart\u001b[0m\u001b[1;33m(\u001b[0m\u001b[1;33m)\u001b[0m\u001b[1;33m\u001b[0m\u001b[1;33m\u001b[0m\u001b[0m\n\u001b[0m\u001b[0;32m     13\u001b[0m \u001b[0mc\u001b[0m\u001b[1;33m.\u001b[0m\u001b[0mincrement\u001b[0m\u001b[1;33m(\u001b[0m\u001b[1;33m)\u001b[0m\u001b[1;33m.\u001b[0m\u001b[0mincrement\u001b[0m\u001b[1;33m(\u001b[0m\u001b[1;33m)\u001b[0m\u001b[1;33m.\u001b[0m\u001b[0mdecrement\u001b[0m\u001b[1;33m(\u001b[0m\u001b[1;33m)\u001b[0m\u001b[1;33m\u001b[0m\u001b[1;33m\u001b[0m\u001b[0m\n",
      "\u001b[1;31mAttributeError\u001b[0m: 'Counter' object has no attribute 'start'"
     ]
    }
   ],
   "source": [
    "class Counter(object):\n",
    "    def __init__(self, start=1):\n",
    "        self.val = start\n",
    "    def increment(self):\n",
    "        self.val += 1\n",
    "        return self\n",
    "    def decrement(self):\n",
    "        self.val -= 1\n",
    "        return self\n",
    "    \n",
    "c = Counter()\n",
    "c.start\n",
    "c.increment().increment().decrement()"
   ]
  },
  {
   "cell_type": "code",
   "execution_count": 114,
   "id": "d2a04d6e",
   "metadata": {},
   "outputs": [
    {
     "data": {
      "text/plain": [
       "2"
      ]
     },
     "execution_count": 114,
     "metadata": {},
     "output_type": "execute_result"
    }
   ],
   "source": [
    "class Up():\n",
    "    def __init__(self, p):\n",
    "        self.p = p\n",
    "    def fun(self):\n",
    "        print(\"hi\")\n",
    "        return self\n",
    "x = Up(2)\n",
    "x.p\n",
    "# y = x.fun()\n",
    "# type(y)\n",
    "# for i in range(5,17):\n",
    "#     Up()"
   ]
  },
  {
   "cell_type": "code",
   "execution_count": 43,
   "id": "47a9bf18",
   "metadata": {},
   "outputs": [
    {
     "data": {
      "image/png": "[encoded data removed]",
      "text/plain": [
       "<Figure size 432x288 with 1 Axes>"
      ]
     },
     "metadata": {
      "needs_background": "light"
     },
     "output_type": "display_data"
    }
   ],
   "source": [
    "# start = 1\n",
    "# stop = 0.1\n",
    "# para_arr = np.linspace(start, stop, 3)\n",
    "start = 1\n",
    "stop = -1\n",
    "para_arr = np.logspace(start, stop, 3)\n",
    "for p in para_arr:\n",
    "    x = 1 / np.arange(1,9)**(p**1)\n",
    "    x = x / np.sum(x)\n",
    "    plt.plot(x,'d',label='l=' + f\"{p:.1f}\");\n",
    "    \n",
    "plt.ylim([-0.1, 1.1]);\n",
    "plt.legend();"
   ]
  },
  {
   "cell_type": "code",
   "execution_count": 217,
   "id": "07690a89",
   "metadata": {},
   "outputs": [
    {
     "data": {
      "text/plain": [
       "1.5607966601082315"
      ]
     },
     "execution_count": 217,
     "metadata": {},
     "output_type": "execute_result"
    },
    {
     "data": {
      "text/plain": [
       "1.5707963267948966"
      ]
     },
     "execution_count": 217,
     "metadata": {},
     "output_type": "execute_result"
    }
   ],
   "source": [
    "np.arctan(100)\n",
    "np.pi/2"
   ]
  },
  {
   "cell_type": "code",
   "execution_count": 228,
   "id": "a522669d",
   "metadata": {},
   "outputs": [
    {
     "data": {
      "text/plain": [
       "[<matplotlib.lines.Line2D at 0x1789e0a6c88>]"
      ]
     },
     "execution_count": 228,
     "metadata": {},
     "output_type": "execute_result"
    },
    {
     "data": {
      "image/png": "[encoded data removed]",
      "text/plain": [
       "<Figure size 432x288 with 1 Axes>"
      ]
     },
     "metadata": {
      "needs_background": "light"
     },
     "output_type": "display_data"
    }
   ],
   "source": [
    "x_arr = np.arange(0,101,0.1) \n",
    "y = np.tan((x_arr-50)/50*1.5)\n",
    "plt.plot(x_arr,y)"
   ]
  },
  {
   "cell_type": "code",
   "execution_count": null,
   "id": "9b71fb06",
   "metadata": {},
   "outputs": [],
   "source": [
    "# To find the cubic polinomial mapping:\n",
    "# y = ax^5 + bx^4 + cx^3 + dx^2+ex+f\n",
    "# y'(50) = midPointSlope\n",
    "# y(50)  = midPointValue\n",
    "# y'(100) = 10\n",
    "# y(100) = 100\n",
    "# y'(1)   = 10\n",
    "# y(1)   = 1\n",
    "# We have 4 equations and 4 variables: a,b,c,d\n",
    "# This is a linear system of equations:\n",
    "# 0 = 3*50**2*a+2*50*b+c\n",
    "# 100 = 100**3*a+100**2*b+100*c+d\n",
    "# 50 = 50**3*a+50**2*b+50*c+d\n",
    "# 1 = a+b+c+d\n",
    "# Let us arrange this in matrix form:\n",
    "midPointSlope = 1\n",
    "A = np.array([[3*50**2, 2*50,   1,   0],\n",
    "              [50**3,   50**2,  50,  1],\n",
    "              [100**3,  100**2, 100, 1],\n",
    "              [1,       1,      1,   1]])\n",
    "\n",
    "# Find the 4 coefficients - a,b,c,d,e,f:\n",
    "midPointValue = 50\n",
    "coefficients = np.linalg.inv(A).dot([midPointSlope, midPointValue, 100, 1])"
   ]
  },
  {
   "cell_type": "code",
   "execution_count": 231,
   "id": "883f9776",
   "metadata": {},
   "outputs": [],
   "source": [
    "# To find the cubic polinomial mapping:\n",
    "# y = ax^3 + bx^2 + cx + d\n",
    "# y'(50) = midPointSlope\n",
    "# y(50)  = midPointValue\n",
    "# y(100) = 100\n",
    "# y(1)   = 1\n",
    "# We have 4 equations and 4 variables: a,b,c,d\n",
    "# This is a linear system of equations:\n",
    "# 0 = 3*50**2*a+2*50*b+c\n",
    "# 100 = 100**3*a+100**2*b+100*c+d\n",
    "# 50 = 50**3*a+50**2*b+50*c+d\n",
    "# 1 = a+b+c+d\n",
    "# Let us arrange this in matrix form:\n",
    "midPointSlope = 0\n",
    "A = np.array([[3*50**2, 2*50,   1,   0],\n",
    "              [50**3,   50**2,  50,  1],\n",
    "              [100**3,  100**2, 100, 1],\n",
    "              [1,       1,      1,   1]])\n",
    "\n",
    "# Find the 4 coefficients - a,b,c,d:\n",
    "midPointValue = 50\n",
    "coefficients = np.linalg.inv(A).dot([midPointSlope, midPointValue, 100, 1])\n"
   ]
  },
  {
   "cell_type": "code",
   "execution_count": 258,
   "id": "3e468f1b",
   "metadata": {},
   "outputs": [
    {
     "name": "stdout",
     "output_type": "stream",
     "text": [
      "[1. 0.]\n",
      "[ 0.83333333  0.33333333 -0.16666667]\n",
      "[ 0.75        0.41666667  0.08333333 -0.25      ]\n",
      "[ 0.7   0.45  0.2  -0.05 -0.3 ]\n",
      "[ 0.66666667  0.46666667  0.26666667  0.06666667 -0.13333333 -0.33333333]\n",
      "[ 0.64285714  0.47619048  0.30952381  0.14285714 -0.02380952 -0.19047619\n",
      " -0.35714286]\n",
      "[ 0.625       0.48214286  0.33928571  0.19642857  0.05357143 -0.08928571\n",
      " -0.23214286 -0.375     ]\n"
     ]
    },
    {
     "data": {
      "text/plain": [
       "array([], dtype=float64)"
      ]
     },
     "execution_count": 258,
     "metadata": {},
     "output_type": "execute_result"
    }
   ],
   "source": [
    "all_levels = []\n",
    "number_of_possible_step_sizes = 8 #8\n",
    "numer_of_low_levels_in_each_high_level = 1\n",
    "for top_level_index in range(number_of_possible_step_sizes-1):\n",
    "#     distribution_non_zero = np.ones(top_level_index+1) \n",
    "#     distribution_non_zero = distribution_non_zero / np.sum(distribution_non_zero)\n",
    "#     distribution_zero = np.zeros(number_of_possible_step_sizes-top_level_index-1)\n",
    "#     distribution = np.concatenate((distribution_non_zero, distribution_zero))\n",
    "#     all_levels.append(distribution)\n",
    "    slopes = np.linspace(-1/(top_level_index+1), 0, numer_of_low_levels_in_each_high_level)\n",
    "    x = np.arange(top_level_index+2)\n",
    "    for slope in slopes:\n",
    "        y = slope * (x-(top_level_index+1)/2) + 1/(top_level_index+2)\n",
    "        print(y)\n",
    "#         print(slope)\n",
    "#         print(1/(top_level_index+2))\n",
    "#         for index, probability in enumerate(distribution_non_zero):\n",
    "#             distribution_non_zero[index] = slope(probability) * \n",
    "#         distribution_non_zero = slope * np.arange(top_level_index+2) + 1\n",
    "#         distribution_non_zero = distribution_non_zero / np.sum(distribution_non_zero)\n",
    "        \n",
    "        \n",
    "        \n",
    "        \n",
    "all_levels = np.array(all_levels)\n",
    "all_levels"
   ]
  },
  {
   "cell_type": "code",
   "execution_count": 261,
   "id": "c02dc757",
   "metadata": {},
   "outputs": [
    {
     "data": {
      "image/png": "[encoded data removed]",
      "text/plain": [
       "<Figure size 432x288 with 1 Axes>"
      ]
     },
     "metadata": {
      "needs_background": "light"
     },
     "output_type": "display_data"
    },
    {
     "data": {
      "image/png": "[encoded data removed]",
      "text/plain": [
       "<Figure size 432x288 with 1 Axes>"
      ]
     },
     "metadata": {
      "needs_background": "light"
     },
     "output_type": "display_data"
    }
   ],
   "source": [
    "import numpy as np\n",
    "import matplotlib.pyplot as plt\n",
    "\n",
    "# Difficulty level (range chosen arbitratily with sufficient refinement):\n",
    "x_arr = np.arange(1,102,10) \n",
    "# Cubic mapping:\n",
    "t = []\n",
    "for x in x_arr:\n",
    "    t.append(coefficients.dot(x**np.arange(3,-1,-1)))\n",
    "t = np.array(t)\n",
    "# t = x_arr\n",
    "# t = x_arr**2 / 100\n",
    "plt.figure()\n",
    "plt.plot(x_arr,t);\n",
    "plt.title('Cubic Polinomial Mapping')\n",
    "y = -3/99*(t-1)+1\n",
    "z = 10**y\n",
    "w_arr = 2 ** -z\n",
    "plt.figure()\n",
    "for index, w in enumerate(w_arr):\n",
    "    distribution = w**np.arange(8)\n",
    "    distribution = distribution / np.sum(distribution)\n",
    "    plt.plot(distribution,'d',label='l=' + str(x_arr[index]));\n",
    "    \n",
    "plt.ylim([-0.1, 1.1]);\n",
    "plt.legend();"
   ]
  },
  {
   "cell_type": "code",
   "execution_count": 56,
   "id": "2ce47aa9",
   "metadata": {},
   "outputs": [
    {
     "data": {
      "text/plain": [
       "[<matplotlib.lines.Line2D at 0x23508bdb808>]"
      ]
     },
     "execution_count": 56,
     "metadata": {},
     "output_type": "execute_result"
    },
    {
     "name": "stderr",
     "output_type": "stream",
     "text": [
      "No artists with labels found to put in legend.  Note that artists whose label start with an underscore are ignored when legend() is called with no argument.\n"
     ]
    },
    {
     "data": {
      "text/plain": [
       "<matplotlib.legend.Legend at 0x23508bdb388>"
      ]
     },
     "execution_count": 56,
     "metadata": {},
     "output_type": "execute_result"
    },
    {
     "data": {
      "image/png": "[encoded data removed]",
      "text/plain": [
       "<Figure size 432x288 with 2 Axes>"
      ]
     },
     "metadata": {
      "needs_background": "light"
     },
     "output_type": "display_data"
    }
   ],
   "source": [
    "fig, ax = plt.subplots(2,1)\n",
    "ax[0].plot(np.arange(10))\n",
    "box = ax[0].get_position()\n",
    "ax[0].set_position([box.x0, box.y0, box.width * 0.5, box.height])\n",
    "ax[0].legend(loc='center left', bbox_to_anchor=(1, 0.5))\n",
    "    "
   ]
  },
  {
   "cell_type": "code",
   "execution_count": 54,
   "id": "f9aec013",
   "metadata": {},
   "outputs": [
    {
     "data": {
      "image/png": "[encoded data removed]",
      "text/plain": [
       "<Figure size 432x288 with 1 Axes>"
      ]
     },
     "metadata": {
      "needs_background": "light"
     },
     "output_type": "display_data"
    }
   ],
   "source": [
    "True_or_False = [True, True, False, True, True, False, True, True, False]\n",
    "lower_bound_response_time = 1.5\n",
    "upper_bound_response_time = 2.5\n",
    "autoregressive_response_time = np.random.rand(7)\n",
    "response_time = np.random.rand(6)\n",
    "\n",
    "fig, ax = plt.subplots(1, 1)\n",
    "my_size = len(True_or_False)\n",
    "True_or_False = np.array(True_or_False)\n",
    "x_ticks_positions = np.arange(0, my_size)\n",
    "ax.plot(x_ticks_positions,\n",
    "        0.7 * np.ones(my_size),\n",
    "        '-b', label='minimal response time');\n",
    "ax.plot(x_ticks_positions,\n",
    "        lower_bound_response_time * np.ones(my_size),\n",
    "        '-g', label='response time lower bound');\n",
    "ax.plot(x_ticks_positions,\n",
    "        upper_bound_response_time * np.ones(my_size),\n",
    "        '-r', label='response time upper bound');\n",
    "ax.plot(x_ticks_positions[True_or_False==False],\n",
    "        np.zeros(sum(True_or_False==False)),\n",
    "        'd', label='autoregressive response time');\n",
    "ax.plot(x_ticks_positions[True_or_False],\n",
    "        autoregressive_response_time[1:],\n",
    "        ':', label='autoregressive response time');\n",
    "ax.plot(x_ticks_positions[True_or_False],\n",
    "        response_time,\n",
    "        '--', label='response time');"
   ]
  },
  {
   "cell_type": "code",
   "execution_count": null,
   "id": "357cffd0",
   "metadata": {},
   "outputs": [],
   "source": [
    "\n",
    "\n",
    "\n",
    "ax.set_xticks(x_ticks_positions)\n",
    "max_step_size_list = max_step_size_list[:-1]\n",
    "step_size_list = step_size_list[:-1]\n",
    "my_x_labels = [str(x) + '(' + str(y) + ')' for x, y in zip(max_step_size_list, step_size_list)]\n",
    "ax.set_xticklabels(my_x_labels)\n",
    "# ax.set_xticklabels(answer_list_note_names)\n",
    "\n",
    "# ax.plot(x_ticks_positions, note_durations, label='note duration')\n",
    "box = ax.get_position()\n",
    "ax.set_position([box.x0, box.y0, box.width * 1.5, box.height])\n",
    "ax.legend(loc='center left', bbox_to_anchor=(1, 0.5))\n",
    "plt.ylabel('seconds')"
   ]
  },
  {
   "cell_type": "code",
   "execution_count": 4,
   "id": "f8fefaf2",
   "metadata": {},
   "outputs": [
    {
     "data": {
      "text/plain": [
       "1"
      ]
     },
     "execution_count": 4,
     "metadata": {},
     "output_type": "execute_result"
    }
   ],
   "source": [
    "from IPython.core.interactiveshell import InteractiveShell\n",
    "InteractiveShell.ast_node_interactivity = \"all\"\n",
    "x = np.arange(10,20)\n",
    "x\n",
    "y = np.full((10),True)\n",
    "y[3] = False\n",
    "x[y==False]\n",
    "sum(y==False)"
   ]
  },
  {
   "cell_type": "code",
   "execution_count": 25,
   "id": "6fab476d",
   "metadata": {},
   "outputs": [
    {
     "data": {
      "text/plain": [
       "<zip at 0x2350860d6c8>"
      ]
     },
     "execution_count": 25,
     "metadata": {},
     "output_type": "execute_result"
    }
   ],
   "source": [
    "zip([0,1],['a','b'])"
   ]
  },
  {
   "cell_type": "code",
   "execution_count": 26,
   "id": "3563ae69",
   "metadata": {},
   "outputs": [
    {
     "data": {
      "text/plain": [
       "['0(a)', '1(b)']"
      ]
     },
     "execution_count": 26,
     "metadata": {},
     "output_type": "execute_result"
    }
   ],
   "source": [
    "[str(x) + '(' + y + ')' for x,y  in zip([0,1],['a','b'])]"
   ]
  },
  {
   "cell_type": "code",
   "execution_count": 21,
   "id": "6081b823",
   "metadata": {},
   "outputs": [
    {
     "data": {
      "image/png": "[encoded data removed]",
      "text/plain": [
       "<Figure size 432x288 with 1 Axes>"
      ]
     },
     "metadata": {
      "needs_background": "light"
     },
     "output_type": "display_data"
    }
   ],
   "source": [
    "import matplotlib.pyplot as plt\n",
    "y = [1,2,3]\n",
    "plt.plot(y,'-')\n",
    "for x, i in enumerate(y):\n",
    "    plt.plot(x, i,'d',color = 'r')"
   ]
  },
  {
   "cell_type": "code",
   "execution_count": 16,
   "id": "fd319dde",
   "metadata": {},
   "outputs": [
    {
     "ename": "ValueError",
     "evalue": "Integers to negative integer powers are not allowed.",
     "output_type": "error",
     "traceback": [
      "\u001b[1;31m---------------------------------------------------------------------------\u001b[0m",
      "\u001b[1;31mValueError\u001b[0m                                Traceback (most recent call last)",
      "\u001b[1;32m~\\AppData\\Local\\Temp\\ipykernel_14784\\697707759.py\u001b[0m in \u001b[0;36m<module>\u001b[1;34m\u001b[0m\n\u001b[0;32m      1\u001b[0m \u001b[1;32mimport\u001b[0m \u001b[0mnumpy\u001b[0m \u001b[1;32mas\u001b[0m \u001b[0mnp\u001b[0m\u001b[1;33m\u001b[0m\u001b[1;33m\u001b[0m\u001b[0m\n\u001b[1;32m----> 2\u001b[1;33m \u001b[0mnp\u001b[0m\u001b[1;33m.\u001b[0m\u001b[0mpower\u001b[0m\u001b[1;33m(\u001b[0m\u001b[1;36m2\u001b[0m\u001b[1;33m,\u001b[0m\u001b[0mnp\u001b[0m\u001b[1;33m.\u001b[0m\u001b[0marange\u001b[0m\u001b[1;33m(\u001b[0m\u001b[1;33m-\u001b[0m\u001b[1;36m1\u001b[0m\u001b[1;33m,\u001b[0m \u001b[1;36m5\u001b[0m\u001b[1;33m)\u001b[0m\u001b[1;33m)\u001b[0m\u001b[1;33m\u001b[0m\u001b[1;33m\u001b[0m\u001b[0m\n\u001b[0m\u001b[0;32m      3\u001b[0m \u001b[0mnp\u001b[0m\u001b[1;33m.\u001b[0m\u001b[0marange\u001b[0m\u001b[1;33m(\u001b[0m\u001b[1;33m-\u001b[0m\u001b[1;36m1\u001b[0m\u001b[1;33m,\u001b[0m \u001b[1;36m5\u001b[0m\u001b[1;33m)\u001b[0m\u001b[1;33m\u001b[0m\u001b[1;33m\u001b[0m\u001b[0m\n",
      "\u001b[1;31mValueError\u001b[0m: Integers to negative integer powers are not allowed."
     ]
    }
   ],
   "source": [
    "import numpy as np\n",
    "np.power(2,np.arange(-1, 5))\n",
    "np.arange(-1, 5)"
   ]
  },
  {
   "cell_type": "code",
   "execution_count": 1,
   "id": "df0154e6",
   "metadata": {},
   "outputs": [
    {
     "name": "stdout",
     "output_type": "stream",
     "text": [
      "Seconds since epoch = 1653645819.0836105\n"
     ]
    }
   ],
   "source": [
    "import time\n",
    "seconds = time.time()\n",
    "print(\"Seconds since epoch =\", seconds)\t"
   ]
  },
  {
   "cell_type": "code",
   "execution_count": 4,
   "id": "7b732d7c",
   "metadata": {},
   "outputs": [
    {
     "ename": "ModuleNotFoundError",
     "evalue": "No module named 'mido'",
     "output_type": "error",
     "traceback": [
      "\u001b[1;31m---------------------------------------------------------------------------\u001b[0m",
      "\u001b[1;31mModuleNotFoundError\u001b[0m                       Traceback (most recent call last)",
      "\u001b[1;32m<ipython-input-4-f8ee33ff4b81>\u001b[0m in \u001b[0;36m<module>\u001b[1;34m\u001b[0m\n\u001b[0;32m      1\u001b[0m \u001b[1;32mimport\u001b[0m \u001b[0mos\u001b[0m\u001b[1;33m\u001b[0m\u001b[1;33m\u001b[0m\u001b[0m\n\u001b[0;32m      2\u001b[0m \u001b[1;33m\u001b[0m\u001b[0m\n\u001b[1;32m----> 3\u001b[1;33m \u001b[1;32mfrom\u001b[0m \u001b[0mmido\u001b[0m \u001b[1;32mimport\u001b[0m \u001b[0mMidiFile\u001b[0m\u001b[1;33m\u001b[0m\u001b[1;33m\u001b[0m\u001b[0m\n\u001b[0m\u001b[0;32m      4\u001b[0m \u001b[1;33m\u001b[0m\u001b[0m\n\u001b[0;32m      5\u001b[0m \u001b[1;33m\u001b[0m\u001b[0m\n",
      "\u001b[1;31mModuleNotFoundError\u001b[0m: No module named 'mido'"
     ]
    }
   ],
   "source": [
    "import os\n",
    "\n",
    "from mido import MidiFile\n",
    "\n",
    "\n",
    "cv1 = MidiFile('VampireKillerCV1.mid', clip=True)\n",
    "\n",
    "message_numbers = []\n",
    "duplicates = []\n",
    "\n",
    "for track in cv1.tracks:\n",
    "    if len(track) in message_numbers:\n",
    "        duplicates.append(track)\n",
    "    else:\n",
    "        message_numbers.append(len(track))\n",
    "\n",
    "for track in duplicates:\n",
    "    cv1.tracks.remove(track)\n",
    "\n",
    "cv1.save('new_song.mid')"
   ]
  },
  {
   "cell_type": "code",
   "execution_count": 3,
   "id": "eb8f5619",
   "metadata": {},
   "outputs": [
    {
     "ename": "ModuleNotFoundError",
     "evalue": "No module named 'midiutil'",
     "output_type": "error",
     "traceback": [
      "\u001b[1;31m---------------------------------------------------------------------------\u001b[0m",
      "\u001b[1;31mModuleNotFoundError\u001b[0m                       Traceback (most recent call last)",
      "\u001b[1;32m<ipython-input-3-5e8f2030c2e0>\u001b[0m in \u001b[0;36m<module>\u001b[1;34m\u001b[0m\n\u001b[1;32m----> 1\u001b[1;33m \u001b[1;32mfrom\u001b[0m \u001b[0mmidiutil\u001b[0m\u001b[1;33m.\u001b[0m\u001b[0mMidiFile\u001b[0m \u001b[1;32mimport\u001b[0m \u001b[0mMIDIFile\u001b[0m\u001b[1;33m\u001b[0m\u001b[1;33m\u001b[0m\u001b[0m\n\u001b[0m\u001b[0;32m      2\u001b[0m \u001b[1;33m\u001b[0m\u001b[0m\n\u001b[0;32m      3\u001b[0m \u001b[1;31m# create your MIDI object\u001b[0m\u001b[1;33m\u001b[0m\u001b[1;33m\u001b[0m\u001b[1;33m\u001b[0m\u001b[0m\n\u001b[0;32m      4\u001b[0m \u001b[0mmf\u001b[0m \u001b[1;33m=\u001b[0m \u001b[0mMIDIFile\u001b[0m\u001b[1;33m(\u001b[0m\u001b[1;36m1\u001b[0m\u001b[1;33m)\u001b[0m     \u001b[1;31m# only 1 track\u001b[0m\u001b[1;33m\u001b[0m\u001b[1;33m\u001b[0m\u001b[0m\n\u001b[0;32m      5\u001b[0m \u001b[0mtrack\u001b[0m \u001b[1;33m=\u001b[0m \u001b[1;36m0\u001b[0m   \u001b[1;31m# the only track\u001b[0m\u001b[1;33m\u001b[0m\u001b[1;33m\u001b[0m\u001b[0m\n",
      "\u001b[1;31mModuleNotFoundError\u001b[0m: No module named 'midiutil'"
     ]
    }
   ],
   "source": [
    "from midiutil.MidiFile import MIDIFile\n",
    "\n",
    "# create your MIDI object\n",
    "mf = MIDIFile(1)     # only 1 track\n",
    "track = 0   # the only track\n",
    "\n",
    "time = 0    # start at the beginning\n",
    "mf.addTrackName(track, time, \"Sample Track\")\n",
    "mf.addTempo(track, time, 120)\n",
    "\n",
    "# add some notes\n",
    "channel = 0\n",
    "volume = 100\n",
    "\n",
    "pitch = 60           # C4 (middle C)\n",
    "time = 0             # start on beat 0\n",
    "duration = 1         # 1 beat long\n",
    "mf.addNote(track, channel, pitch, time, duration, volume)\n",
    "\n",
    "pitch = 64           # E4\n",
    "time = 2             # start on beat 2\n",
    "duration = 1         # 1 beat long\n",
    "mf.addNote(track, channel, pitch, time, duration, volume)\n",
    "\n",
    "pitch = 67           # G4\n",
    "time = 4             # start on beat 4\n",
    "duration = 1         # 1 beat long\n",
    "mf.addNote(track, channel, pitch, time, duration, volume)\n",
    "\n",
    "# write it to disk\n",
    "with open(\"output.mid\", 'wb') as outf:\n",
    "    mf.writeFile(outf)"
   ]
  },
  {
   "cell_type": "code",
   "execution_count": 2,
   "id": "65e4ddc6",
   "metadata": {},
   "outputs": [],
   "source": [
    "import pandas as pd \n",
    "import numpy as np\n",
    "import seaborn as sns\n",
    "from IPython.core.interactiveshell import InteractiveShell\n",
    "InteractiveShell.ast_node_interactivity = \"all\""
   ]
  },
  {
   "cell_type": "code",
   "execution_count": 21,
   "id": "380a6a7d",
   "metadata": {},
   "outputs": [
    {
     "data": {
      "text/plain": [
       "array([1])"
      ]
     },
     "execution_count": 21,
     "metadata": {},
     "output_type": "execute_result"
    }
   ],
   "source": [
    "np.arange(1,2)"
   ]
  },
  {
   "cell_type": "code",
   "execution_count": 20,
   "id": "ce110f90",
   "metadata": {},
   "outputs": [
    {
     "data": {
      "text/plain": [
       "array([1])"
      ]
     },
     "execution_count": 20,
     "metadata": {},
     "output_type": "execute_result"
    },
    {
     "data": {
      "text/plain": [
       "array([-1])"
      ]
     },
     "execution_count": 20,
     "metadata": {},
     "output_type": "execute_result"
    },
    {
     "data": {
      "text/plain": [
       "array([2])"
      ]
     },
     "execution_count": 20,
     "metadata": {},
     "output_type": "execute_result"
    }
   ],
   "source": [
    "step_size = 0\n",
    "np.random.choice(np.arange(1, 2 + step_size), 1)\n",
    "\n",
    "(-1) ** np.random.binomial(1, 0.5) * \\\n",
    "                         np.random.choice(np.arange(1, 2 + step_size), 1)\n",
    "\n",
    "(-1) ** np.random.binomial(1, 0.5) * \\\n",
    "                         np.random.choice(np.arange(1, 2 + step_size), 1) + 3"
   ]
  },
  {
   "cell_type": "code",
   "execution_count": 6,
   "id": "3033fa6d",
   "metadata": {},
   "outputs": [],
   "source": [
    "if 0 and True:\n",
    "    print('sdf')"
   ]
  },
  {
   "cell_type": "code",
   "execution_count": 240,
   "id": "fd9d4b09",
   "metadata": {},
   "outputs": [
    {
     "data": {
      "text/plain": [
       "(3, 3)"
      ]
     },
     "execution_count": 240,
     "metadata": {},
     "output_type": "execute_result"
    },
    {
     "data": {
      "text/plain": [
       "array([[nan, nan, nan],\n",
       "       [nan, nan, nan],\n",
       "       [nan, nan, nan]])"
      ]
     },
     "execution_count": 240,
     "metadata": {},
     "output_type": "execute_result"
    }
   ],
   "source": [
    "x = np.zeros((3,3))\n",
    "x.shape\n",
    "np.full(x.shape,np.nan)"
   ]
  },
  {
   "cell_type": "code",
   "execution_count": 177,
   "id": "9d3630e9",
   "metadata": {},
   "outputs": [],
   "source": [
    "# import sys\n",
    "# !{sys.executable} -m pip install rtmidi"
   ]
  },
  {
   "cell_type": "code",
   "execution_count": 178,
   "id": "34caafcd",
   "metadata": {},
   "outputs": [],
   "source": [
    "# import sys\n",
    "# !conda install --yes --prefix {sys.prefix} rtmidi"
   ]
  },
  {
   "cell_type": "code",
   "execution_count": 173,
   "id": "abe81cf7",
   "metadata": {},
   "outputs": [
    {
     "ename": "ModuleNotFoundError",
     "evalue": "No module named 'rtmidi'",
     "output_type": "error",
     "traceback": [
      "\u001b[1;31m---------------------------------------------------------------------------\u001b[0m",
      "\u001b[1;31mModuleNotFoundError\u001b[0m                       Traceback (most recent call last)",
      "\u001b[1;32m~\\AppData\\Local\\Temp\\ipykernel_8744\\3035580342.py\u001b[0m in \u001b[0;36m<module>\u001b[1;34m\u001b[0m\n\u001b[1;32m----> 1\u001b[1;33m \u001b[1;32mimport\u001b[0m \u001b[0mplot_functions\u001b[0m\u001b[1;33m\u001b[0m\u001b[1;33m\u001b[0m\u001b[0m\n\u001b[0m",
      "\u001b[1;32m~\\Documents\\Personal Python Projects\\Ear Training\\plot_functions.py\u001b[0m in \u001b[0;36m<module>\u001b[1;34m\u001b[0m\n\u001b[0;32m      1\u001b[0m \u001b[1;32mimport\u001b[0m \u001b[0mnumpy\u001b[0m \u001b[1;32mas\u001b[0m \u001b[0mnp\u001b[0m\u001b[1;33m\u001b[0m\u001b[1;33m\u001b[0m\u001b[0m\n\u001b[0;32m      2\u001b[0m \u001b[1;32mimport\u001b[0m \u001b[0mmatplotlib\u001b[0m\u001b[1;33m.\u001b[0m\u001b[0mpyplot\u001b[0m \u001b[1;32mas\u001b[0m \u001b[0mplt\u001b[0m\u001b[1;33m\u001b[0m\u001b[1;33m\u001b[0m\u001b[0m\n\u001b[1;32m----> 3\u001b[1;33m \u001b[1;32mimport\u001b[0m \u001b[0mconstants\u001b[0m\u001b[1;33m\u001b[0m\u001b[1;33m\u001b[0m\u001b[0m\n\u001b[0m\u001b[0;32m      4\u001b[0m \u001b[1;31m# import initial\u001b[0m\u001b[1;33m\u001b[0m\u001b[1;33m\u001b[0m\u001b[1;33m\u001b[0m\u001b[0m\n\u001b[0;32m      5\u001b[0m \u001b[1;31m# from collections import namedtuple\u001b[0m\u001b[1;33m\u001b[0m\u001b[1;33m\u001b[0m\u001b[1;33m\u001b[0m\u001b[0m\n",
      "\u001b[1;32m~\\Documents\\Personal Python Projects\\Ear Training\\constants.py\u001b[0m in \u001b[0;36m<module>\u001b[1;34m\u001b[0m\n\u001b[0;32m      1\u001b[0m \u001b[1;32mimport\u001b[0m \u001b[0mnumpy\u001b[0m \u001b[1;32mas\u001b[0m \u001b[0mnp\u001b[0m\u001b[1;33m\u001b[0m\u001b[1;33m\u001b[0m\u001b[0m\n\u001b[1;32m----> 2\u001b[1;33m \u001b[1;32mimport\u001b[0m \u001b[0mrtmidi\u001b[0m\u001b[1;33m\u001b[0m\u001b[1;33m\u001b[0m\u001b[0m\n\u001b[0m\u001b[0;32m      3\u001b[0m \u001b[1;32mfrom\u001b[0m \u001b[0mtypes\u001b[0m \u001b[1;32mimport\u001b[0m \u001b[0mSimpleNamespace\u001b[0m\u001b[1;33m\u001b[0m\u001b[1;33m\u001b[0m\u001b[0m\n\u001b[0;32m      4\u001b[0m \u001b[1;33m\u001b[0m\u001b[0m\n\u001b[0;32m      5\u001b[0m \u001b[1;33m\u001b[0m\u001b[0m\n",
      "\u001b[1;31mModuleNotFoundError\u001b[0m: No module named 'rtmidi'"
     ]
    }
   ],
   "source": [
    "import plot_functions"
   ]
  },
  {
   "cell_type": "code",
   "execution_count": 205,
   "id": "fcf5cf9c",
   "metadata": {},
   "outputs": [
    {
     "data": {
      "text/plain": [
       "[1, 1]"
      ]
     },
     "execution_count": 205,
     "metadata": {},
     "output_type": "execute_result"
    }
   ],
   "source": [
    "x = [1,1]\n",
    "y = x\n",
    "y = 2\n",
    "x"
   ]
  },
  {
   "cell_type": "code",
   "execution_count": 204,
   "id": "eaecb8f1",
   "metadata": {},
   "outputs": [
    {
     "data": {
      "text/plain": [
       "array([1, 1])"
      ]
     },
     "execution_count": 204,
     "metadata": {},
     "output_type": "execute_result"
    }
   ],
   "source": [
    "# np.unique([3,1,2])\n",
    "x = np.array([1,1])\n",
    "x[x==1]\n",
    "# x\n",
    "\n",
    "# plt.plot(x==2, [1,2,3],'d')"
   ]
  },
  {
   "cell_type": "code",
   "execution_count": 165,
   "id": "dc4dd41d",
   "metadata": {},
   "outputs": [
    {
     "data": {
      "text/plain": [
       "True"
      ]
     },
     "execution_count": 165,
     "metadata": {},
     "output_type": "execute_result"
    }
   ],
   "source": [
    "import os.path\n",
    "os.path.exists('response_times.p')"
   ]
  },
  {
   "cell_type": "code",
   "execution_count": 162,
   "id": "9ad46914",
   "metadata": {},
   "outputs": [
    {
     "data": {
      "image/png": "[encoded data removed]",
      "text/plain": [
       "<Figure size 432x288 with 1 Axes>"
      ]
     },
     "metadata": {
      "needs_background": "light"
     },
     "output_type": "display_data"
    },
    {
     "name": "stdout",
     "output_type": "stream",
     "text": [
      "2.157423997747487\n",
      "29\n"
     ]
    }
   ],
   "source": [
    "import pickle\n",
    "import matplotlib.pyplot as plt\n",
    "import numpy as np\n",
    "response_times = pickle.load(open(\"response_times_number_of_notes_2.p\", \"rb\"))\n",
    "response_times = [response_time for response_time in response_times if not np.isnan(response_time)]\n",
    "# print(response_times)\n",
    "plt.plot(response_times)\n",
    "plt.plot(np.mean(response_times) * np.ones(len(response_times)))\n",
    "plt.show()\n",
    "print(np.mean(response_times))\n",
    "print(len(response_times))"
   ]
  },
  {
   "cell_type": "code",
   "execution_count": 218,
   "id": "7efc2c10",
   "metadata": {},
   "outputs": [],
   "source": [
    "# Save a dictionary into a pickle file.\n",
    "import pickle\n",
    "\n",
    "favorite_color = { \"lion\": \"yellow\", \"kitty\": \"red\" }\n",
    "\n",
    "pickle.dump( favorite_color, open( \"save.p\", \"wb\" ) )\n",
    "\n",
    "# Load the dictionary back from the pickle file.\n",
    "import pickle\n",
    "\n",
    "favorite_color = pickle.load( open( \"save.p\", \"rb\" ) )\n",
    "# favorite_color is now { \"lion\": \"yellow\", \"kitty\": \"red\" }"
   ]
  },
  {
   "cell_type": "code",
   "execution_count": 216,
   "id": "207c96fd",
   "metadata": {},
   "outputs": [
    {
     "data": {
      "text/plain": [
       "array(['C', 'D', 'E', 'F', 'G', 'A', 'B', 'C', 'D', 'E', 'F', 'G', 'A',\n",
       "       'B', 'C'], dtype='<U2')"
      ]
     },
     "execution_count": 216,
     "metadata": {},
     "output_type": "execute_result"
    }
   ],
   "source": [
    "note_numbers_C_to_C = np.array([60, 62, 64, 65, 67, 69, 71, 72])\n",
    "# note_numbers_C_to_B = np.unique(np.concatenate((note_numbers_C_to_B-12, note_numbers_C_to_B, note_numbers_C_to_B+12)))\n",
    "note_numbers_C_to_C = np.unique(np.concatenate((note_numbers_C_to_C - 12, note_numbers_C_to_C)))\n",
    "note_names_C_to_B = np.array(['C', 'CS', 'D', 'DS', 'E', 'F', 'FS', 'G', 'GS', 'A', 'AS', 'B'])\n",
    "note_names_C_to_B[note_numbers_C_to_C % 12]"
   ]
  },
  {
   "cell_type": "code",
   "execution_count": 209,
   "id": "7d393696",
   "metadata": {},
   "outputs": [
    {
     "data": {
      "text/plain": [
       "<AxesSubplot:>"
      ]
     },
     "execution_count": 209,
     "metadata": {},
     "output_type": "execute_result"
    },
    {
     "data": {
      "image/png": "[encoded data removed]",
      "text/plain": [
       "<Figure size 432x288 with 2 Axes>"
      ]
     },
     "metadata": {
      "needs_background": "light"
     },
     "output_type": "display_data"
    }
   ],
   "source": [
    "x = np.random.rand(3,3)\n",
    "sns.heatmap(x,xticklabels='sdf')"
   ]
  }
 ],
 "metadata": {
  "kernelspec": {
   "display_name": "Python 3",
   "language": "python",
   "name": "python3"
  },
  "language_info": {
   "codemirror_mode": {
    "name": "ipython",
    "version": 3
   },
   "file_extension": ".py",
   "mimetype": "text/x-python",
   "name": "python",
   "nbconvert_exporter": "python",
   "pygments_lexer": "ipython3",
   "version": "3.7.11"
  }
 },
 "nbformat": 4,
 "nbformat_minor": 5
}
